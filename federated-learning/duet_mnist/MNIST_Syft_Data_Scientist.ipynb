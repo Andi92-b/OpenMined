{
 "cells": [
  {
   "cell_type": "markdown",
   "metadata": {},
   "source": [
    "# MNIST - Syft Duet - Data Scientist 🥁"
   ]
  },
  {
   "cell_type": "markdown",
   "metadata": {},
   "source": [
    "## PART 1: Connect to a Remote Duet Server\n",
    "\n",
    "As the Data Scientist, you want to perform data science on data that is sitting in the Data Owner's Duet server in their Notebook.\n",
    "\n",
    "In order to do this, we must run the code that the Data Owner sends us, which importantly includes their Duet Session ID. The code will look like this, importantly with their real Server ID.\n",
    "\n",
    "```\n",
    "import syft as sy\n",
    "duet = sy.duet('xxxxxxxxxxxxxxxxxxxxxxxxxxxxxxxx')\n",
    "```\n",
    "\n",
    "This will create a direct connection from my notebook to the remote Duet server. Once the connection is established all traffic is sent directly between the two nodes.\n",
    "\n",
    "Paste the code or Server ID that the Data Owner gives you and run it in the cell below. It will return your Client ID which you must send to the Data Owner to enter into Duet so it can pair your notebooks."
   ]
  },
  {
   "cell_type": "code",
   "execution_count": 1,
   "metadata": {},
   "outputs": [
    {
     "data": {
      "image/png": "[encoded data removed]",
      "text/plain": [
       "<IPython.core.display.Image object>"
      ]
     },
     "metadata": {
      "image/png": {
       "unconfined": true,
       "width": 400
      }
     },
     "output_type": "display_data"
    },
    {
     "name": "stdout",
     "output_type": "stream",
     "text": [
      "🎤  🎸  ♪♪♪ Joining Duet ♫♫♫  🎻  🎹\n",
      "\n",
      "♫♫♫ >\u001b[93m DISCLAIMER\u001b[0m: \u001b[1mDuet is an experimental feature currently in beta.\n",
      "♫♫♫ > Use at your own risk.\n",
      "\u001b[0m\n",
      "\u001b[1m\n",
      "    > ❤️ \u001b[91mLove\u001b[0m \u001b[92mDuet\u001b[0m? \u001b[93mPlease\u001b[0m \u001b[94mconsider\u001b[0m \u001b[95msupporting\u001b[0m \u001b[91mour\u001b[0m \u001b[93mcommunity!\u001b[0m\n",
      "    > https://github.com/sponsors/OpenMined\u001b[1m\n",
      "\n",
      "♫♫♫ > Punching through firewall to OpenGrid Network Node at:\n",
      "♫♫♫ > http://ec2-18-216-8-163.us-east-2.compute.amazonaws.com:5000\n",
      "♫♫♫ >\n",
      "♫♫♫ > ...waiting for response from OpenGrid Network... \n",
      "♫♫♫ > \u001b[92mDONE!\u001b[0m\n",
      "\n",
      "♫♫♫ > \u001b[92mCONNECTED!\u001b[0m\n"
     ]
    }
   ],
   "source": [
    "import syft as sy\n",
    "duet = sy.join_duet(loopback=True)"
   ]
  },
  {
   "cell_type": "markdown",
   "metadata": {},
   "source": [
    "### <img src=\"https://github.com/OpenMined/design-assets/raw/master/logos/OM/mark-primary-light.png\" alt=\"he-black-box\" width=\"100\"/> Checkpoint 0 : Now STOP and run the Data Owner notebook until the next checkpoint."
   ]
  },
  {
   "cell_type": "markdown",
   "metadata": {},
   "source": [
    "## PART 2: Setting up a Model and our Data\n",
    "The majority of the code below has been adapted closely from the original PyTorch MNIST example which is available in the `original` directory with these notebooks."
   ]
  },
  {
   "cell_type": "markdown",
   "metadata": {},
   "source": [
    "The `duet` variable is now your reference to a whole world of remote operations including supported libraries like torch.\n",
    "\n",
    "Lets take a look at the duet.torch attribute.\n",
    "```\n",
    "duet.torch\n",
    "```"
   ]
  },
  {
   "cell_type": "code",
   "execution_count": 2,
   "metadata": {},
   "outputs": [
    {
     "data": {
      "text/plain": [
       "Module:\n",
       "\t.Tensor -> <syft.ast.klass.Class object at 0x0000015878EB86A0>\n",
       "\t.BFloat16Tensor -> <syft.ast.klass.Class object at 0x0000015878EB8700>\n",
       "\t.BoolTensor -> <syft.ast.klass.Class object at 0x0000015878EB8760>\n",
       "\t.ByteTensor -> <syft.ast.klass.Class object at 0x0000015878EB87C0>\n",
       "\t.CharTensor -> <syft.ast.klass.Class object at 0x0000015878EB8820>\n",
       "\t.DoubleTensor -> <syft.ast.klass.Class object at 0x0000015878EB8880>\n",
       "\t.FloatTensor -> <syft.ast.klass.Class object at 0x0000015878EB88E0>\n",
       "\t.HalfTensor -> <syft.ast.klass.Class object at 0x0000015878EB8940>\n",
       "\t.IntTensor -> <syft.ast.klass.Class object at 0x0000015878EB89A0>\n",
       "\t.LongTensor -> <syft.ast.klass.Class object at 0x0000015878EB8A00>\n",
       "\t.ShortTensor -> <syft.ast.klass.Class object at 0x0000015878EB8A60>\n",
       "\t.nn -> Module:\n",
       "\t\t.Parameter -> <syft.ast.klass.Class object at 0x0000015878EB8B80>\n",
       "\t\t.Module -> <syft.ast.klass.Class object at 0x0000015878F80FA0>\n",
       "\t\t.Conv2d -> <syft.ast.klass.Class object at 0x0000015878F843A0>\n",
       "\t\t.Dropout2d -> <syft.ast.klass.Class object at 0x0000015878F84700>\n",
       "\t\t.Linear -> <syft.ast.klass.Class object at 0x0000015878F849A0>\n",
       "\t\t.functional -> Module:\n",
       "\t\t\t.relu -> <syft.ast.callable.Callable object at 0x0000015878F89220>\n",
       "\t\t\t.max_pool2d -> <syft.ast.callable.Callable object at 0x0000015878F89280>\n",
       "\t\t\t.log_softmax -> <syft.ast.callable.Callable object at 0x0000015878F892E0>\n",
       "\t\t\t.cosine_embedding_loss -> <syft.ast.callable.Callable object at 0x0000015878F8FFA0>\n",
       "\t\t\t.ctc_loss -> <syft.ast.callable.Callable object at 0x0000015878F93040>\n",
       "\t\t\t.hinge_embedding_loss -> <syft.ast.callable.Callable object at 0x0000015878F93100>\n",
       "\t\t\t.l1_loss -> <syft.ast.callable.Callable object at 0x0000015878F93160>\n",
       "\t\t\t.margin_ranking_loss -> <syft.ast.callable.Callable object at 0x0000015878F93220>\n",
       "\t\t\t.mse_loss -> <syft.ast.callable.Callable object at 0x0000015878F93280>\n",
       "\t\t\t.multi_margin_loss -> <syft.ast.callable.Callable object at 0x0000015878F93340>\n",
       "\t\t\t.multilabel_margin_loss -> <syft.ast.callable.Callable object at 0x0000015878F93400>\n",
       "\t\t\t.multilabel_soft_margin_loss -> <syft.ast.callable.Callable object at 0x0000015878F934C0>\n",
       "\t\t\t.nll_loss -> <syft.ast.callable.Callable object at 0x0000015878F93520>\n",
       "\t\t\t.poisson_nll_loss -> <syft.ast.callable.Callable object at 0x0000015878F935E0>\n",
       "\t\t\t.smooth_l1_loss -> <syft.ast.callable.Callable object at 0x0000015878F936A0>\n",
       "\t\t\t.soft_margin_loss -> <syft.ast.callable.Callable object at 0x0000015878F93760>\n",
       "\t\t\t.triplet_margin_loss -> <syft.ast.callable.Callable object at 0x0000015878F93820>\n",
       "\n",
       "\t\t.Sequential -> <syft.ast.klass.Class object at 0x0000015878F8FCA0>\n",
       "\t\t.AdaptiveLogSoftmaxWithLoss -> <syft.ast.klass.Class object at 0x0000015878F938E0>\n",
       "\t\t.BCELoss -> <syft.ast.klass.Class object at 0x0000015878F93A60>\n",
       "\t\t.BCEWithLogitsLoss -> <syft.ast.klass.Class object at 0x0000015878F93B20>\n",
       "\t\t.CTCLoss -> <syft.ast.klass.Class object at 0x0000015878F93C40>\n",
       "\t\t.CrossEntropyLoss -> <syft.ast.klass.Class object at 0x0000015878F93D00>\n",
       "\t\t.CosineEmbeddingLoss -> <syft.ast.klass.Class object at 0x0000015878F93E20>\n",
       "\t\t.HingeEmbeddingLoss -> <syft.ast.klass.Class object at 0x0000015878F93F40>\n",
       "\t\t.KLDivLoss -> <syft.ast.klass.Class object at 0x0000015878F960A0>\n",
       "\t\t.L1Loss -> <syft.ast.klass.Class object at 0x0000015878F96160>\n",
       "\t\t.MSELoss -> <syft.ast.klass.Class object at 0x0000015878F96220>\n",
       "\t\t.MarginRankingLoss -> <syft.ast.klass.Class object at 0x0000015878F962E0>\n",
       "\t\t.MultiLabelMarginLoss -> <syft.ast.klass.Class object at 0x0000015878F96400>\n",
       "\t\t.MultiLabelSoftMarginLoss -> <syft.ast.klass.Class object at 0x0000015878F96580>\n",
       "\t\t.MultiMarginLoss -> <syft.ast.klass.Class object at 0x0000015878F966A0>\n",
       "\t\t.NLLLoss -> <syft.ast.klass.Class object at 0x0000015878F967C0>\n",
       "\t\t.NLLLoss2d -> <syft.ast.klass.Class object at 0x0000015878F96880>\n",
       "\t\t.PoissonNLLLoss -> <syft.ast.klass.Class object at 0x0000015878F96940>\n",
       "\t\t.SmoothL1Loss -> <syft.ast.klass.Class object at 0x0000015878F96A60>\n",
       "\t\t.SoftMarginLoss -> <syft.ast.klass.Class object at 0x0000015878F96B20>\n",
       "\t\t.TripletMarginLoss -> <syft.ast.klass.Class object at 0x0000015878F96C40>\n",
       "\t\t.AdaptiveAvgPool1d -> <syft.ast.klass.Class object at 0x0000015878F96D60>\n",
       "\t\t.AdaptiveAvgPool2d -> <syft.ast.klass.Class object at 0x0000015878F9C340>\n",
       "\t\t.AdaptiveAvgPool3d -> <syft.ast.klass.Class object at 0x0000015878F9C8E0>\n",
       "\t\t.AdaptiveMaxPool1d -> <syft.ast.klass.Class object at 0x0000015878F9CE80>\n",
       "\t\t.AdaptiveMaxPool2d -> <syft.ast.klass.Class object at 0x0000015878F9F460>\n",
       "\t\t.AdaptiveMaxPool3d -> <syft.ast.klass.Class object at 0x0000015878F9FA00>\n",
       "\t\t.AlphaDropout -> <syft.ast.klass.Class object at 0x0000015878F9FFA0>\n",
       "\t\t.AvgPool1d -> <syft.ast.klass.Class object at 0x0000015878FA14C0>\n",
       "\t\t.AvgPool2d -> <syft.ast.klass.Class object at 0x0000015878FA1880>\n",
       "\t\t.AvgPool3d -> <syft.ast.klass.Class object at 0x0000015878FA1C40>\n",
       "\t\t.BatchNorm1d -> <syft.ast.klass.Class object at 0x0000015878FA6040>\n",
       "\t\t.BatchNorm2d -> <syft.ast.klass.Class object at 0x0000015878FA6400>\n",
       "\t\t.BatchNorm3d -> <syft.ast.klass.Class object at 0x0000015878FA67C0>\n",
       "\t\t.Bilinear -> <syft.ast.klass.Class object at 0x0000015878FA6B80>\n",
       "\t\t.CELU -> <syft.ast.klass.Class object at 0x0000015878FA6F40>\n",
       "\t\t.ConstantPad1d -> <syft.ast.klass.Class object at 0x0000015878FAB2E0>\n",
       "\t\t.ConstantPad2d -> <syft.ast.klass.Class object at 0x0000015878FAB7C0>\n",
       "\t\t.ConstantPad3d -> <syft.ast.klass.Class object at 0x0000015878FABCA0>\n",
       "\t\t.Container -> <syft.ast.klass.Class object at 0x0000015878FAE1C0>\n",
       "\t\t.Conv1d -> <syft.ast.klass.Class object at 0x0000015878FAE580>\n",
       "\t\t.Conv3d -> <syft.ast.klass.Class object at 0x0000015878FAE8E0>\n",
       "\t\t.ConvTranspose1d -> <syft.ast.klass.Class object at 0x0000015878FAEC40>\n",
       "\t\t.ConvTranspose2d -> <syft.ast.klass.Class object at 0x0000015878FB31C0>\n",
       "\t\t.ConvTranspose3d -> <syft.ast.klass.Class object at 0x0000015878FB3700>\n",
       "\t\t.CosineSimilarity -> <syft.ast.klass.Class object at 0x0000015878FB3C40>\n",
       "\t\t.CrossMapLRN2d -> <syft.ast.klass.Class object at 0x0000015878FB71C0>\n",
       "\t\t.DataParallel -> <syft.ast.klass.Class object at 0x0000015878FB76A0>\n",
       "\t\t.Dropout -> <syft.ast.klass.Class object at 0x0000015878FB7B80>\n",
       "\t\t.Dropout3d -> <syft.ast.klass.Class object at 0x0000015878FBA0A0>\n",
       "\t\t.ELU -> <syft.ast.klass.Class object at 0x0000015878FBA460>\n",
       "\t\t.Embedding -> <syft.ast.klass.Class object at 0x0000015878FBA7C0>\n",
       "\t\t.EmbeddingBag -> <syft.ast.klass.Class object at 0x0000015878FBAB80>\n",
       "\t\t.FeatureAlphaDropout -> <syft.ast.klass.Class object at 0x0000015878FBE0A0>\n",
       "\t\t.Flatten -> <syft.ast.klass.Class object at 0x0000015878FBE700>\n",
       "\t\t.Fold -> <syft.ast.klass.Class object at 0x0000015878FBEAC0>\n",
       "\t\t.FractionalMaxPool2d -> <syft.ast.klass.Class object at 0x0000015878FBEE20>\n",
       "\t\t.FractionalMaxPool3d -> <syft.ast.klass.Class object at 0x0000015878FC14C0>\n",
       "\t\t.GELU -> <syft.ast.klass.Class object at 0x0000015878FC1B20>\n",
       "\t\t.GLU -> <syft.ast.klass.Class object at 0x0000015878FC1E80>\n",
       "\t\t.GRU -> <syft.ast.klass.Class object at 0x0000015878FC5220>\n",
       "\t\t.GRUCell -> <syft.ast.klass.Class object at 0x0000015878FC5580>\n",
       "\t\t.GroupNorm -> <syft.ast.klass.Class object at 0x0000015878FC5940>\n",
       "\t\t.Hardshrink -> <syft.ast.klass.Class object at 0x0000015878FC5D00>\n",
       "\t\t.Hardsigmoid -> <syft.ast.klass.Class object at 0x0000015878FCB100>\n",
       "\t\t.Hardswish -> <syft.ast.klass.Class object at 0x0000015878FCB4C0>\n",
       "\t\t.Hardtanh -> <syft.ast.klass.Class object at 0x0000015878FCB880>\n",
       "\t\t.Identity -> <syft.ast.klass.Class object at 0x0000015878FCBC40>\n",
       "\t\t.InstanceNorm1d -> <syft.ast.klass.Class object at 0x0000015878FCE040>\n",
       "\t\t.InstanceNorm2d -> <syft.ast.klass.Class object at 0x0000015878FCE580>\n",
       "\t\t.InstanceNorm3d -> <syft.ast.klass.Class object at 0x0000015878FCEAC0>\n",
       "\t\t.LPPool1d -> <syft.ast.klass.Class object at 0x0000015878FD2040>\n",
       "\t\t.LPPool2d -> <syft.ast.klass.Class object at 0x0000015878FD2400>\n",
       "\t\t.LSTM -> <syft.ast.klass.Class object at 0x0000015878FD27C0>\n",
       "\t\t.LSTMCell -> <syft.ast.klass.Class object at 0x0000015878FD2B20>\n",
       "\t\t.LayerNorm -> <syft.ast.klass.Class object at 0x0000015878FD2EE0>\n",
       "\t\t.LeakyReLU -> <syft.ast.klass.Class object at 0x0000015878FD62E0>\n",
       "\t\t.LocalResponseNorm -> <syft.ast.klass.Class object at 0x0000015878FD66A0>\n",
       "\t\t.LogSigmoid -> <syft.ast.klass.Class object at 0x0000015878FD6C40>\n",
       "\t\t.LogSoftmax -> <syft.ast.klass.Class object at 0x0000015878FDA040>\n",
       "\t\t.MaxPool1d -> <syft.ast.klass.Class object at 0x0000015878FDA400>\n",
       "\t\t.MaxPool2d -> <syft.ast.klass.Class object at 0x0000015878FDA7C0>\n",
       "\t\t.MaxPool3d -> <syft.ast.klass.Class object at 0x0000015878FDAB80>\n",
       "\t\t.MaxUnpool1d -> <syft.ast.klass.Class object at 0x0000015878FDAF40>\n",
       "\t\t.MaxUnpool2d -> <syft.ast.klass.Class object at 0x0000015878FDF340>\n",
       "\t\t.MaxUnpool3d -> <syft.ast.klass.Class object at 0x0000015878FDF700>\n",
       "\t\t.ModuleDict -> <syft.ast.klass.Class object at 0x0000015878FDFAC0>\n",
       "\t\t.ModuleList -> <syft.ast.klass.Class object at 0x0000015878FDFE80>\n",
       "\t\t.MultiheadAttention -> <syft.ast.klass.Class object at 0x0000015878FE5280>\n",
       "\t\t.PReLU -> <syft.ast.klass.Class object at 0x0000015878FE5880>\n",
       "\t\t.PairwiseDistance -> <syft.ast.klass.Class object at 0x0000015878FE5BE0>\n",
       "\t\t.PixelShuffle -> <syft.ast.klass.Class object at 0x0000015878FE7160>\n",
       "\t\t.RNN -> <syft.ast.klass.Class object at 0x0000015878FE7640>\n",
       "\t\t.RNNBase -> <syft.ast.klass.Class object at 0x0000015878FE79A0>\n",
       "\t\t.RNNCell -> <syft.ast.klass.Class object at 0x0000015878FE7D60>\n",
       "\t\t.RNNCellBase -> <syft.ast.klass.Class object at 0x0000015878FEC160>\n",
       "\t\t.RReLU -> <syft.ast.klass.Class object at 0x0000015878FEC520>\n",
       "\t\t.ReLU -> <syft.ast.klass.Class object at 0x0000015878FEC880>\n",
       "\t\t.ReLU6 -> <syft.ast.klass.Class object at 0x0000015878FECBE0>\n",
       "\t\t.ReflectionPad1d -> <syft.ast.klass.Class object at 0x0000015878FECF40>\n",
       "\t\t.ReflectionPad2d -> <syft.ast.klass.Class object at 0x0000015878FF04C0>\n",
       "\t\t.ReplicationPad1d -> <syft.ast.klass.Class object at 0x0000015878FF0A00>\n",
       "\t\t.ReplicationPad2d -> <syft.ast.klass.Class object at 0x0000015878FF0F40>\n",
       "\t\t.ReplicationPad3d -> <syft.ast.klass.Class object at 0x0000015878FF34C0>\n",
       "\t\t.SELU -> <syft.ast.klass.Class object at 0x0000015878FF3A00>\n",
       "\t\t.Sigmoid -> <syft.ast.klass.Class object at 0x0000015878FF3EE0>\n",
       "\t\t.Softmax -> <syft.ast.klass.Class object at 0x0000015878FF72E0>\n",
       "\t\t.Softmax2d -> <syft.ast.klass.Class object at 0x0000015878FF76A0>\n",
       "\t\t.Softmin -> <syft.ast.klass.Class object at 0x0000015878FF7A60>\n",
       "\t\t.Softplus -> <syft.ast.klass.Class object at 0x0000015878FF7E20>\n",
       "\t\t.Softshrink -> <syft.ast.klass.Class object at 0x0000015878FFC220>\n",
       "\t\t.Softsign -> <syft.ast.klass.Class object at 0x0000015878FFC5E0>\n",
       "\t\t.SyncBatchNorm -> <syft.ast.klass.Class object at 0x0000015878FFC9A0>\n",
       "\t\t.Tanh -> <syft.ast.klass.Class object at 0x0000015878FFCE80>\n",
       "\t\t.Tanhshrink -> <syft.ast.klass.Class object at 0x0000015878FFF220>\n",
       "\t\t.Threshold -> <syft.ast.klass.Class object at 0x0000015878FFF5E0>\n",
       "\t\t.Transformer -> <syft.ast.klass.Class object at 0x0000015878FFF9A0>\n",
       "\t\t.TransformerDecoder -> <syft.ast.klass.Class object at 0x0000015878FFFD60>\n",
       "\t\t.TransformerDecoderLayer -> <syft.ast.klass.Class object at 0x0000015879004400>\n",
       "\t\t.TransformerEncoder -> <syft.ast.klass.Class object at 0x0000015879004A00>\n",
       "\t\t.TransformerEncoderLayer -> <syft.ast.klass.Class object at 0x00000158790060A0>\n",
       "\t\t.Unfold -> <syft.ast.klass.Class object at 0x00000158790066A0>\n",
       "\t\t.Upsample -> <syft.ast.klass.Class object at 0x0000015879006A00>\n",
       "\t\t.UpsamplingBilinear2d -> <syft.ast.klass.Class object at 0x0000015879006DC0>\n",
       "\t\t.UpsamplingNearest2d -> <syft.ast.klass.Class object at 0x000001587900A460>\n",
       "\t\t.ZeroPad2d -> <syft.ast.klass.Class object at 0x000001587900AAC0>\n",
       "\n",
       "\t.return_types -> Module:\n",
       "\t\t.cummax -> <syft.ast.klass.Class object at 0x0000015878F048E0>\n",
       "\t\t.cummin -> <syft.ast.klass.Class object at 0x0000015878F04940>\n",
       "\t\t.eig -> <syft.ast.klass.Class object at 0x0000015878F049A0>\n",
       "\t\t.kthvalue -> <syft.ast.klass.Class object at 0x0000015878F04A00>\n",
       "\t\t.lstsq -> <syft.ast.klass.Class object at 0x0000015878F04A60>\n",
       "\t\t.slogdet -> <syft.ast.klass.Class object at 0x0000015878F04AC0>\n",
       "\t\t.qr -> <syft.ast.klass.Class object at 0x0000015878F04B20>\n",
       "\t\t.mode -> <syft.ast.klass.Class object at 0x0000015878F04B80>\n",
       "\t\t.solve -> <syft.ast.klass.Class object at 0x0000015878F04BE0>\n",
       "\t\t.sort -> <syft.ast.klass.Class object at 0x0000015878F04C40>\n",
       "\t\t.symeig -> <syft.ast.klass.Class object at 0x0000015878F04CA0>\n",
       "\t\t.topk -> <syft.ast.klass.Class object at 0x0000015878F04D00>\n",
       "\t\t.triangular_solve -> <syft.ast.klass.Class object at 0x0000015878F04DC0>\n",
       "\t\t.svd -> <syft.ast.klass.Class object at 0x0000015878F04E20>\n",
       "\t\t.geqrf -> <syft.ast.klass.Class object at 0x0000015878F04E80>\n",
       "\t\t.median -> <syft.ast.klass.Class object at 0x0000015878F04EE0>\n",
       "\t\t.max -> <syft.ast.klass.Class object at 0x0000015878F04F40>\n",
       "\t\t.min -> <syft.ast.klass.Class object at 0x0000015878F04FA0>\n",
       "\n",
       "\t.Size -> <syft.ast.klass.Class object at 0x0000015878F601C0>\n",
       "\t.set_grad_enabled -> <syft.ast.klass.Class object at 0x0000015878F60460>\n",
       "\t.zeros -> <syft.ast.callable.Callable object at 0x0000015878F604C0>\n",
       "\t.randn -> <syft.ast.callable.Callable object at 0x0000015878F60520>\n",
       "\t.ones_like -> <syft.ast.callable.Callable object at 0x0000015878F60580>\n",
       "\t.abs_ -> <syft.ast.callable.Callable object at 0x0000015878F606A0>\n",
       "\t.abs -> <syft.ast.callable.Callable object at 0x0000015878F60700>\n",
       "\t.acos_ -> <syft.ast.callable.Callable object at 0x0000015878F60760>\n",
       "\t.acos -> <syft.ast.callable.Callable object at 0x0000015878F607C0>\n",
       "\t.add -> <syft.ast.callable.Callable object at 0x0000015878F60820>\n",
       "\t.addbmm -> <syft.ast.callable.Callable object at 0x0000015878F60880>\n",
       "\t.addcdiv -> <syft.ast.callable.Callable object at 0x0000015878F608E0>\n",
       "\t.addcmul -> <syft.ast.callable.Callable object at 0x0000015878F60940>\n",
       "\t.addmm -> <syft.ast.callable.Callable object at 0x0000015878F609A0>\n",
       "\t.addmv_ -> <syft.ast.callable.Callable object at 0x0000015878F60A00>\n",
       "\t.addmv -> <syft.ast.callable.Callable object at 0x0000015878F60A60>\n",
       "\t.addr -> <syft.ast.callable.Callable object at 0x0000015878F60AC0>\n",
       "\t.all -> <syft.ast.callable.Callable object at 0x0000015878F60B20>\n",
       "\t.allclose -> <syft.ast.callable.Callable object at 0x0000015878F60B80>\n",
       "\t.angle -> <syft.ast.callable.Callable object at 0x0000015878F60BE0>\n",
       "\t.any -> <syft.ast.callable.Callable object at 0x0000015878F60C40>\n",
       "\t.argmax -> <syft.ast.callable.Callable object at 0x0000015878F60CA0>\n",
       "\t.argmin -> <syft.ast.callable.Callable object at 0x0000015878F60D00>\n",
       "\t.argsort -> <syft.ast.callable.Callable object at 0x0000015878F60D60>\n",
       "\t.as_strided_ -> <syft.ast.callable.Callable object at 0x0000015878F60DC0>\n",
       "\t.as_strided -> <syft.ast.callable.Callable object at 0x0000015878F60E20>\n",
       "\t.asin_ -> <syft.ast.callable.Callable object at 0x0000015878F60E80>\n",
       "\t.asin -> <syft.ast.callable.Callable object at 0x0000015878F60EE0>\n",
       "\t.atan_ -> <syft.ast.callable.Callable object at 0x0000015878F60F40>\n",
       "\t.atan -> <syft.ast.callable.Callable object at 0x0000015878F60FA0>\n",
       "\t.atan2 -> <syft.ast.callable.Callable object at 0x0000015878F65040>\n",
       "\t.baddbmm -> <syft.ast.callable.Callable object at 0x0000015878F650A0>\n",
       "\t.bernoulli -> <syft.ast.callable.Callable object at 0x0000015878F65100>\n",
       "\t.bitwise_and -> <syft.ast.callable.Callable object at 0x0000015878F65160>\n",
       "\t.bitwise_not -> <syft.ast.callable.Callable object at 0x0000015878F651C0>\n",
       "\t.bitwise_or -> <syft.ast.callable.Callable object at 0x0000015878F65220>\n",
       "\t.bitwise_xor -> <syft.ast.callable.Callable object at 0x0000015878F65280>\n",
       "\t.bmm -> <syft.ast.callable.Callable object at 0x0000015878F652E0>\n",
       "\t.ceil_ -> <syft.ast.callable.Callable object at 0x0000015878F65340>\n",
       "\t.ceil -> <syft.ast.callable.Callable object at 0x0000015878F653A0>\n",
       "\t.cholesky_inverse -> <syft.ast.callable.Callable object at 0x0000015878F65400>\n",
       "\t.cholesky_solve -> <syft.ast.callable.Callable object at 0x0000015878F65460>\n",
       "\t.cholesky -> <syft.ast.callable.Callable object at 0x0000015878F654C0>\n",
       "\t.chunk -> <syft.ast.callable.Callable object at 0x0000015878F65520>\n",
       "\t.clamp_ -> <syft.ast.callable.Callable object at 0x0000015878F65580>\n",
       "\t.clamp_max_ -> <syft.ast.callable.Callable object at 0x0000015878F655E0>\n",
       "\t.clamp_max -> <syft.ast.callable.Callable object at 0x0000015878F65640>\n",
       "\t.clamp_min_ -> <syft.ast.callable.Callable object at 0x0000015878F656A0>\n",
       "\t.clamp_min -> <syft.ast.callable.Callable object at 0x0000015878F65700>\n",
       "\t.clamp -> <syft.ast.callable.Callable object at 0x0000015878F65760>\n",
       "\t.clone -> <syft.ast.callable.Callable object at 0x0000015878F657C0>\n",
       "\t.conj -> <syft.ast.callable.Callable object at 0x0000015878F65820>\n",
       "\t.cos_ -> <syft.ast.callable.Callable object at 0x0000015878F65880>\n",
       "\t.cos -> <syft.ast.callable.Callable object at 0x0000015878F658E0>\n",
       "\t.cosh_ -> <syft.ast.callable.Callable object at 0x0000015878F65940>\n",
       "\t.cosh -> <syft.ast.callable.Callable object at 0x0000015878F659A0>\n",
       "\t.cross -> <syft.ast.callable.Callable object at 0x0000015878F65A00>\n",
       "\t.cummax -> <syft.ast.callable.Callable object at 0x0000015878F65A60>\n",
       "\t.cummin -> <syft.ast.callable.Callable object at 0x0000015878F65AC0>\n",
       "\t.cumprod -> <syft.ast.callable.Callable object at 0x0000015878F65B20>\n",
       "\t.cumsum -> <syft.ast.callable.Callable object at 0x0000015878F65B80>\n",
       "\t.dequantize -> <syft.ast.callable.Callable object at 0x0000015878F65BE0>\n",
       "\t.det -> <syft.ast.callable.Callable object at 0x0000015878F65C40>\n",
       "\t.detach -> <syft.ast.callable.Callable object at 0x0000015878F65CA0>\n",
       "\t.diag_embed -> <syft.ast.callable.Callable object at 0x0000015878F65D00>\n",
       "\t.diag -> <syft.ast.callable.Callable object at 0x0000015878F65D60>\n",
       "\t.diagflat -> <syft.ast.callable.Callable object at 0x0000015878F65DC0>\n",
       "\t.diagonal -> <syft.ast.callable.Callable object at 0x0000015878F65E20>\n",
       "\t.digamma -> <syft.ast.callable.Callable object at 0x0000015878F65E80>\n",
       "\t.dist -> <syft.ast.callable.Callable object at 0x0000015878F65EE0>\n",
       "\t.div -> <syft.ast.callable.Callable object at 0x0000015878F65F40>\n",
       "\t.dot -> <syft.ast.callable.Callable object at 0x0000015878F65FA0>\n",
       "\t.eig -> <syft.ast.callable.Callable object at 0x0000015878F69040>\n",
       "\t.eq -> <syft.ast.callable.Callable object at 0x0000015878F690A0>\n",
       "\t.equal -> <syft.ast.callable.Callable object at 0x0000015878F69100>\n",
       "\t.erf_ -> <syft.ast.callable.Callable object at 0x0000015878F69160>\n",
       "\t.erf -> <syft.ast.callable.Callable object at 0x0000015878F691C0>\n",
       "\t.erfc_ -> <syft.ast.callable.Callable object at 0x0000015878F69220>\n",
       "\t.erfc -> <syft.ast.callable.Callable object at 0x0000015878F69280>\n",
       "\t.erfinv -> <syft.ast.callable.Callable object at 0x0000015878F692E0>\n",
       "\t.exp_ -> <syft.ast.callable.Callable object at 0x0000015878F69340>\n",
       "\t.exp -> <syft.ast.callable.Callable object at 0x0000015878F693A0>\n",
       "\t.expm1_ -> <syft.ast.callable.Callable object at 0x0000015878F69400>\n",
       "\t.expm1 -> <syft.ast.callable.Callable object at 0x0000015878F69460>\n",
       "\t.fft -> Module:\n",
       "\n",
       "\t.fill_ -> <syft.ast.callable.Callable object at 0x0000015878F69520>\n",
       "\t.flatten -> <syft.ast.callable.Callable object at 0x0000015878F69580>\n",
       "\t.flip -> <syft.ast.callable.Callable object at 0x0000015878F695E0>\n",
       "\t.floor_ -> <syft.ast.callable.Callable object at 0x0000015878F69640>\n",
       "\t.floor_divide -> <syft.ast.callable.Callable object at 0x0000015878F696A0>\n",
       "\t.floor -> <syft.ast.callable.Callable object at 0x0000015878F69700>\n",
       "\t.fmod -> <syft.ast.callable.Callable object at 0x0000015878F69760>\n",
       "\t.frac_ -> <syft.ast.callable.Callable object at 0x0000015878F697C0>\n",
       "\t.frac -> <syft.ast.callable.Callable object at 0x0000015878F69820>\n",
       "\t.gather -> <syft.ast.callable.Callable object at 0x0000015878F69880>\n",
       "\t.ge -> <syft.ast.callable.Callable object at 0x0000015878F698E0>\n",
       "\t.geqrf -> <syft.ast.callable.Callable object at 0x0000015878F69940>\n",
       "\t.ger -> <syft.ast.callable.Callable object at 0x0000015878F699A0>\n",
       "\t.get_device -> <syft.ast.callable.Callable object at 0x0000015878F69A00>\n",
       "\t.gt -> <syft.ast.callable.Callable object at 0x0000015878F69A60>\n",
       "\t.hardshrink -> <syft.ast.callable.Callable object at 0x0000015878F69AC0>\n",
       "\t.histc -> <syft.ast.callable.Callable object at 0x0000015878F69B20>\n",
       "\t.index_add -> <syft.ast.callable.Callable object at 0x0000015878F69B80>\n",
       "\t.index_copy -> <syft.ast.callable.Callable object at 0x0000015878F69BE0>\n",
       "\t.index_fill -> <syft.ast.callable.Callable object at 0x0000015878F69C40>\n",
       "\t.index_put_ -> <syft.ast.callable.Callable object at 0x0000015878F69CA0>\n",
       "\t.index_put -> <syft.ast.callable.Callable object at 0x0000015878F69D00>\n",
       "\t.index_select -> <syft.ast.callable.Callable object at 0x0000015878F69D60>\n",
       "\t.int_repr -> <syft.ast.callable.Callable object at 0x0000015878F69DC0>\n",
       "\t.inverse -> <syft.ast.callable.Callable object at 0x0000015878F69E20>\n",
       "\t.is_complex -> <syft.ast.callable.Callable object at 0x0000015878F69E80>\n",
       "\t.is_distributed -> <syft.ast.callable.Callable object at 0x0000015878F69EE0>\n",
       "\t.is_floating_point -> <syft.ast.callable.Callable object at 0x0000015878F69F40>\n",
       "\t.is_nonzero -> <syft.ast.callable.Callable object at 0x0000015878F69FA0>\n",
       "\t.is_same_size -> <syft.ast.callable.Callable object at 0x0000015878F6D040>\n",
       "\t.is_signed -> <syft.ast.callable.Callable object at 0x0000015878F6D0A0>\n",
       "\t.isclose -> <syft.ast.callable.Callable object at 0x0000015878F6D100>\n",
       "\t.kthvalue -> <syft.ast.callable.Callable object at 0x0000015878F6D160>\n",
       "\t.le -> <syft.ast.callable.Callable object at 0x0000015878F6D1C0>\n",
       "\t.lerp -> <syft.ast.callable.Callable object at 0x0000015878F6D220>\n",
       "\t.lgamma -> <syft.ast.callable.Callable object at 0x0000015878F6D280>\n",
       "\t.log_ -> <syft.ast.callable.Callable object at 0x0000015878F6D2E0>\n",
       "\t.log_softmax -> <syft.ast.callable.Callable object at 0x0000015878F6D340>\n",
       "\t.log -> <syft.ast.callable.Callable object at 0x0000015878F6D3A0>\n",
       "\t.log10_ -> <syft.ast.callable.Callable object at 0x0000015878F6D400>\n",
       "\t.log10 -> <syft.ast.callable.Callable object at 0x0000015878F6D460>\n",
       "\t.log1p_ -> <syft.ast.callable.Callable object at 0x0000015878F6D4C0>\n",
       "\t.log1p -> <syft.ast.callable.Callable object at 0x0000015878F6D520>\n",
       "\t.log2_ -> <syft.ast.callable.Callable object at 0x0000015878F6D580>\n",
       "\t.log2 -> <syft.ast.callable.Callable object at 0x0000015878F6D5E0>\n",
       "\t.logdet -> <syft.ast.callable.Callable object at 0x0000015878F6D640>\n",
       "\t.logical_and -> <syft.ast.callable.Callable object at 0x0000015878F6D6A0>\n",
       "\t.logical_not -> <syft.ast.callable.Callable object at 0x0000015878F6D700>\n",
       "\t.logical_or -> <syft.ast.callable.Callable object at 0x0000015878F6D760>\n",
       "\t.logical_xor -> <syft.ast.callable.Callable object at 0x0000015878F6D7C0>\n",
       "\t.logsumexp -> <syft.ast.callable.Callable object at 0x0000015878F6D820>\n",
       "\t.lstsq -> <syft.ast.callable.Callable object at 0x0000015878F6D880>\n",
       "\t.lt -> <syft.ast.callable.Callable object at 0x0000015878F6D8E0>\n",
       "\t.lu_solve -> <syft.ast.callable.Callable object at 0x0000015878F6D940>\n",
       "\t.lu -> <syft.ast.callable.Callable object at 0x0000015878F6D9A0>\n",
       "\t.masked_fill -> <syft.ast.callable.Callable object at 0x0000015878F6DA00>\n",
       "\t.masked_scatter -> <syft.ast.callable.Callable object at 0x0000015878F6DA60>\n",
       "\t.masked_select -> <syft.ast.callable.Callable object at 0x0000015878F6DAC0>\n",
       "\t.matmul -> <syft.ast.callable.Callable object at 0x0000015878F6DB20>\n",
       "\t.matrix_power -> <syft.ast.callable.Callable object at 0x0000015878F6DB80>\n",
       "\t.mean -> <syft.ast.callable.Callable object at 0x0000015878F6DBE0>\n",
       "\t.mm -> <syft.ast.callable.Callable object at 0x0000015878F6DC40>\n",
       "\t.mode -> <syft.ast.callable.Callable object at 0x0000015878F6DCA0>\n",
       "\t.mul -> <syft.ast.callable.Callable object at 0x0000015878F6DD00>\n",
       "\t.multinomial -> <syft.ast.callable.Callable object at 0x0000015878F6DD60>\n",
       "\t.mv -> <syft.ast.callable.Callable object at 0x0000015878F6DDC0>\n",
       "\t.mvlgamma -> <syft.ast.callable.Callable object at 0x0000015878F6DE20>\n",
       "\t.narrow -> <syft.ast.callable.Callable object at 0x0000015878F6DE80>\n",
       "\t.ne -> <syft.ast.callable.Callable object at 0x0000015878F6DEE0>\n",
       "\t.neg_ -> <syft.ast.callable.Callable object at 0x0000015878F6DF40>\n",
       "\t.neg -> <syft.ast.callable.Callable object at 0x0000015878F6DFA0>\n",
       "\t.nonzero -> <syft.ast.callable.Callable object at 0x0000015878F71040>\n",
       "\t.norm -> <syft.ast.callable.Callable object at 0x0000015878F710A0>\n",
       "\t.orgqr -> <syft.ast.callable.Callable object at 0x0000015878F71100>\n",
       "\t.ormqr -> <syft.ast.callable.Callable object at 0x0000015878F71160>\n",
       "\t.pinverse -> <syft.ast.callable.Callable object at 0x0000015878F711C0>\n",
       "\t.polygamma -> <syft.ast.callable.Callable object at 0x0000015878F71220>\n",
       "\t.pow -> <syft.ast.callable.Callable object at 0x0000015878F71280>\n",
       "\t.prelu -> <syft.ast.callable.Callable object at 0x0000015878F712E0>\n",
       "\t.q_per_channel_axis -> <syft.ast.callable.Callable object at 0x0000015878F71340>\n",
       "\t.q_per_channel_scales -> <syft.ast.callable.Callable object at 0x0000015878F713A0>\n",
       "\t.q_per_channel_zero_points -> <syft.ast.callable.Callable object at 0x0000015878F71400>\n",
       "\t.q_scale -> <syft.ast.callable.Callable object at 0x0000015878F71460>\n",
       "\t.q_zero_point -> <syft.ast.callable.Callable object at 0x0000015878F714C0>\n",
       "\t.qr -> <syft.ast.callable.Callable object at 0x0000015878F71520>\n",
       "\t.reciprocal_ -> <syft.ast.callable.Callable object at 0x0000015878F71580>\n",
       "\t.reciprocal -> <syft.ast.callable.Callable object at 0x0000015878F715E0>\n",
       "\t.relu_ -> <syft.ast.callable.Callable object at 0x0000015878F71640>\n",
       "\t.relu -> <syft.ast.callable.Callable object at 0x0000015878F716A0>\n",
       "\t.remainder -> <syft.ast.callable.Callable object at 0x0000015878F71700>\n",
       "\t.renorm -> <syft.ast.callable.Callable object at 0x0000015878F71760>\n",
       "\t.repeat_interleave -> <syft.ast.callable.Callable object at 0x0000015878F717C0>\n",
       "\t.reshape -> <syft.ast.callable.Callable object at 0x0000015878F71820>\n",
       "\t.resize_as_ -> <syft.ast.callable.Callable object at 0x0000015878F71880>\n",
       "\t.roll -> <syft.ast.callable.Callable object at 0x0000015878F718E0>\n",
       "\t.rot90 -> <syft.ast.callable.Callable object at 0x0000015878F71940>\n",
       "\t.round_ -> <syft.ast.callable.Callable object at 0x0000015878F719A0>\n",
       "\t.round -> <syft.ast.callable.Callable object at 0x0000015878F71A00>\n",
       "\t.rsqrt_ -> <syft.ast.callable.Callable object at 0x0000015878F71A60>\n",
       "\t.rsqrt -> <syft.ast.callable.Callable object at 0x0000015878F71AC0>\n",
       "\t.scatter_add -> <syft.ast.callable.Callable object at 0x0000015878F71B20>\n",
       "\t.scatter -> <syft.ast.callable.Callable object at 0x0000015878F71B80>\n",
       "\t.select -> <syft.ast.callable.Callable object at 0x0000015878F71BE0>\n",
       "\t.sigmoid_ -> <syft.ast.callable.Callable object at 0x0000015878F71C40>\n",
       "\t.sigmoid -> <syft.ast.callable.Callable object at 0x0000015878F71CA0>\n",
       "\t.sign -> <syft.ast.callable.Callable object at 0x0000015878F71D00>\n",
       "\t.sin_ -> <syft.ast.callable.Callable object at 0x0000015878F71D60>\n",
       "\t.sin -> <syft.ast.callable.Callable object at 0x0000015878F71DC0>\n",
       "\t.sinh_ -> <syft.ast.callable.Callable object at 0x0000015878F71E20>\n",
       "\t.sinh -> <syft.ast.callable.Callable object at 0x0000015878F71E80>\n",
       "\t.slogdet -> <syft.ast.callable.Callable object at 0x0000015878F71EE0>\n",
       "\t.softmax -> <syft.ast.callable.Callable object at 0x0000015878F71F40>\n",
       "\t.solve -> <syft.ast.callable.Callable object at 0x0000015878F71FA0>\n",
       "\t.sort -> <syft.ast.callable.Callable object at 0x0000015878F76040>\n",
       "\t.split_with_sizes -> <syft.ast.callable.Callable object at 0x0000015878F760A0>\n",
       "\t.split -> <syft.ast.callable.Callable object at 0x0000015878F76100>\n",
       "\t.sqrt_ -> <syft.ast.callable.Callable object at 0x0000015878F76160>\n",
       "\t.sqrt -> <syft.ast.callable.Callable object at 0x0000015878F761C0>\n",
       "\t.square_ -> <syft.ast.callable.Callable object at 0x0000015878F76220>\n",
       "\t.square -> <syft.ast.callable.Callable object at 0x0000015878F76280>\n",
       "\t.squeeze -> <syft.ast.callable.Callable object at 0x0000015878F762E0>\n",
       "\t.std -> <syft.ast.callable.Callable object at 0x0000015878F76340>\n",
       "\t.stft -> <syft.ast.callable.Callable object at 0x0000015878F763A0>\n",
       "\t.sub -> <syft.ast.callable.Callable object at 0x0000015878F76400>\n",
       "\t.sum -> <syft.ast.callable.Callable object at 0x0000015878F76460>\n",
       "\t.svd -> <syft.ast.callable.Callable object at 0x0000015878F764C0>\n",
       "\t.symeig -> <syft.ast.callable.Callable object at 0x0000015878F76520>\n",
       "\t.t -> <syft.ast.callable.Callable object at 0x0000015878F76580>\n",
       "\t.take -> <syft.ast.callable.Callable object at 0x0000015878F765E0>\n",
       "\t.tan_ -> <syft.ast.callable.Callable object at 0x0000015878F76640>\n",
       "\t.tan -> <syft.ast.callable.Callable object at 0x0000015878F766A0>\n",
       "\t.tanh_ -> <syft.ast.callable.Callable object at 0x0000015878F76700>\n",
       "\t.tanh -> <syft.ast.callable.Callable object at 0x0000015878F76760>\n",
       "\t.topk -> <syft.ast.callable.Callable object at 0x0000015878F767C0>\n",
       "\t.trace -> <syft.ast.callable.Callable object at 0x0000015878F76820>\n",
       "\t.transpose -> <syft.ast.callable.Callable object at 0x0000015878F76880>\n",
       "\t.triangular_solve -> <syft.ast.callable.Callable object at 0x0000015878F768E0>\n",
       "\t.tril -> <syft.ast.callable.Callable object at 0x0000015878F76940>\n",
       "\t.triu -> <syft.ast.callable.Callable object at 0x0000015878F769A0>\n",
       "\t.true_divide -> <syft.ast.callable.Callable object at 0x0000015878F76A00>\n",
       "\t.trunc_ -> <syft.ast.callable.Callable object at 0x0000015878F76A60>\n",
       "\t.trunc -> <syft.ast.callable.Callable object at 0x0000015878F76AC0>\n",
       "\t.unique_consecutive -> <syft.ast.callable.Callable object at 0x0000015878F76B20>\n",
       "\t.unique -> <syft.ast.callable.Callable object at 0x0000015878F76B80>\n",
       "\t.unsqueeze -> <syft.ast.callable.Callable object at 0x0000015878F76BE0>\n",
       "\t.var -> <syft.ast.callable.Callable object at 0x0000015878F76C40>\n",
       "\t.unsafe_chunk -> <syft.ast.callable.Callable object at 0x0000015878F76CA0>\n",
       "\t.absolute -> <syft.ast.callable.Callable object at 0x0000015878F76D00>\n",
       "\t.acosh_ -> <syft.ast.callable.Callable object at 0x0000015878F76D60>\n",
       "\t.acosh -> <syft.ast.callable.Callable object at 0x0000015878F76DC0>\n",
       "\t.asinh_ -> <syft.ast.callable.Callable object at 0x0000015878F76E20>\n",
       "\t.asinh -> <syft.ast.callable.Callable object at 0x0000015878F76E80>\n",
       "\t.atanh_ -> <syft.ast.callable.Callable object at 0x0000015878F76EE0>\n",
       "\t.atanh -> <syft.ast.callable.Callable object at 0x0000015878F76F40>\n",
       "\t.deg2rad_ -> <syft.ast.callable.Callable object at 0x0000015878F76FA0>\n",
       "\t.deg2rad -> <syft.ast.callable.Callable object at 0x0000015878F7B040>\n",
       "\t.fliplr -> <syft.ast.callable.Callable object at 0x0000015878F7B0A0>\n",
       "\t.flipud -> <syft.ast.callable.Callable object at 0x0000015878F7B100>\n",
       "\t.isfinite -> <syft.ast.callable.Callable object at 0x0000015878F7B160>\n",
       "\t.isinf -> <syft.ast.callable.Callable object at 0x0000015878F7B1C0>\n",
       "\t.isnan -> <syft.ast.callable.Callable object at 0x0000015878F7B220>\n",
       "\t.logaddexp -> <syft.ast.callable.Callable object at 0x0000015878F7B280>\n",
       "\t.logaddexp2 -> <syft.ast.callable.Callable object at 0x0000015878F7B2E0>\n",
       "\t.logcumsumexp -> <syft.ast.callable.Callable object at 0x0000015878F7B340>\n",
       "\t.rad2deg_ -> <syft.ast.callable.Callable object at 0x0000015878F7B3A0>\n",
       "\t.rad2deg -> <syft.ast.callable.Callable object at 0x0000015878F7B400>\n",
       "\t.istft -> <syft.ast.callable.Callable object at 0x0000015878F7B460>\n",
       "\t.amax -> <syft.ast.callable.Callable object at 0x0000015878F7B4C0>\n",
       "\t.amin -> <syft.ast.callable.Callable object at 0x0000015878F7B520>\n",
       "\t.arccos -> <syft.ast.callable.Callable object at 0x0000015878F7B580>\n",
       "\t.arccos_ -> <syft.ast.callable.Callable object at 0x0000015878F7B5E0>\n",
       "\t.arccosh -> <syft.ast.callable.Callable object at 0x0000015878F7B640>\n",
       "\t.arccosh_ -> <syft.ast.callable.Callable object at 0x0000015878F7B6A0>\n",
       "\t.arcsin -> <syft.ast.callable.Callable object at 0x0000015878F7B700>\n",
       "\t.arcsin_ -> <syft.ast.callable.Callable object at 0x0000015878F7B760>\n",
       "\t.arcsinh -> <syft.ast.callable.Callable object at 0x0000015878F7B7C0>\n",
       "\t.arcsinh_ -> <syft.ast.callable.Callable object at 0x0000015878F7B820>\n",
       "\t.arctan -> <syft.ast.callable.Callable object at 0x0000015878F7B880>\n",
       "\t.arctan_ -> <syft.ast.callable.Callable object at 0x0000015878F7B8E0>\n",
       "\t.arctanh -> <syft.ast.callable.Callable object at 0x0000015878F7B940>\n",
       "\t.arctanh_ -> <syft.ast.callable.Callable object at 0x0000015878F7B9A0>\n",
       "\t.clip -> <syft.ast.callable.Callable object at 0x0000015878F7BA00>\n",
       "\t.clip_ -> <syft.ast.callable.Callable object at 0x0000015878F7BA60>\n",
       "\t.count_nonzero -> <syft.ast.callable.Callable object at 0x0000015878F7BAC0>\n",
       "\t.divide -> <syft.ast.callable.Callable object at 0x0000015878F7BB20>\n",
       "\t.exp2 -> <syft.ast.callable.Callable object at 0x0000015878F7BBE0>\n",
       "\t.exp2_ -> <syft.ast.callable.Callable object at 0x0000015878F7BC40>\n",
       "\t.fix -> <syft.ast.callable.Callable object at 0x0000015878F7BCA0>\n",
       "\t.fix_ -> <syft.ast.callable.Callable object at 0x0000015878F7BD00>\n",
       "\t.gcd -> <syft.ast.callable.Callable object at 0x0000015878F7BD60>\n",
       "\t.gcd_ -> <syft.ast.callable.Callable object at 0x0000015878F7BDC0>\n",
       "\t.greater -> <syft.ast.callable.Callable object at 0x0000015878F7BE20>\n",
       "\t.greater_equal -> <syft.ast.callable.Callable object at 0x0000015878F7BE80>\n",
       "\t.heaviside -> <syft.ast.callable.Callable object at 0x0000015878F7BEE0>\n",
       "\t.hypot -> <syft.ast.callable.Callable object at 0x0000015878F7BF40>\n",
       "\t.i0 -> <syft.ast.callable.Callable object at 0x0000015878F7BFA0>\n",
       "\t.i0_ -> <syft.ast.callable.Callable object at 0x0000015878F80040>\n",
       "\t.isneginf -> <syft.ast.callable.Callable object at 0x0000015878F800A0>\n",
       "\t.isposinf -> <syft.ast.callable.Callable object at 0x0000015878F80100>\n",
       "\t.isreal -> <syft.ast.callable.Callable object at 0x0000015878F80160>\n",
       "\t.lcm -> <syft.ast.callable.Callable object at 0x0000015878F801C0>\n",
       "\t.lcm_ -> <syft.ast.callable.Callable object at 0x0000015878F80220>\n",
       "\t.less -> <syft.ast.callable.Callable object at 0x0000015878F80280>\n",
       "\t.less_equal -> <syft.ast.callable.Callable object at 0x0000015878F802E0>\n",
       "\t.logit -> <syft.ast.callable.Callable object at 0x0000015878F80340>\n",
       "\t.logit_ -> <syft.ast.callable.Callable object at 0x0000015878F803A0>\n",
       "\t.maximum -> <syft.ast.callable.Callable object at 0x0000015878F80400>\n",
       "\t.minimum -> <syft.ast.callable.Callable object at 0x0000015878F80460>\n",
       "\t.matrix_exp -> <syft.ast.callable.Callable object at 0x0000015878F804C0>\n",
       "\t.multiply -> <syft.ast.callable.Callable object at 0x0000015878F80520>\n",
       "\t.nanquantile -> <syft.ast.callable.Callable object at 0x0000015878F80580>\n",
       "\t.nansum -> <syft.ast.callable.Callable object at 0x0000015878F805E0>\n",
       "\t.negative -> <syft.ast.callable.Callable object at 0x0000015878F80640>\n",
       "\t.negative_ -> <syft.ast.callable.Callable object at 0x0000015878F806A0>\n",
       "\t.nextafter -> <syft.ast.callable.Callable object at 0x0000015878F80700>\n",
       "\t.outer -> <syft.ast.callable.Callable object at 0x0000015878F80760>\n",
       "\t.quantile -> <syft.ast.callable.Callable object at 0x0000015878F807C0>\n",
       "\t.sgn -> <syft.ast.callable.Callable object at 0x0000015878F80820>\n",
       "\t.signbit -> <syft.ast.callable.Callable object at 0x0000015878F80880>\n",
       "\t.subtract -> <syft.ast.callable.Callable object at 0x0000015878F808E0>\n",
       "\t.unsafe_split -> <syft.ast.callable.Callable object at 0x0000015878F80940>\n",
       "\t.vdot -> <syft.ast.callable.Callable object at 0x0000015878F809A0>\n",
       "\t.movedim -> <syft.ast.callable.Callable object at 0x0000015878F80A00>\n",
       "\t.unsafe_split_with_sizes -> <syft.ast.callable.Callable object at 0x0000015878F80A60>\n",
       "\t.cuda -> Module:\n",
       "\t\t.is_available -> <syft.ast.callable.Callable object at 0x0000015878F80B20>\n",
       "\n",
       "\t.device -> <syft.ast.klass.Class object at 0x0000015878F80B80>\n",
       "\t.random -> Module:\n",
       "\t\t.initial_seed -> <syft.ast.callable.Callable object at 0x0000015878F80D00>\n",
       "\n",
       "\t.zeros_like -> <syft.ast.callable.Callable object at 0x0000015878F80D60>\n",
       "\t.manual_seed -> <syft.ast.callable.Callable object at 0x0000015878F80DC0>\n",
       "\t.Generator -> <syft.ast.klass.Class object at 0x0000015878F80E20>\n",
       "\t.utils -> Module:\n",
       "\t\t.data -> Module:\n",
       "\t\t\t.DataLoader -> <syft.ast.klass.Class object at 0x0000015878F84DC0>\n",
       "\t\t\t.dataloader -> Module:\n",
       "\t\t\t\t._SingleProcessDataLoaderIter -> <syft.ast.klass.Class object at 0x0000015878F89040>\n",
       "\n",
       "\n",
       "\n",
       "\t.optim -> Module:\n",
       "\t\t.ASGD -> <syft.ast.klass.Class object at 0x0000015878F893A0>\n",
       "\t\t.Adadelta -> <syft.ast.klass.Class object at 0x0000015878F89520>\n",
       "\t\t.Adagrad -> <syft.ast.klass.Class object at 0x0000015878F896A0>\n",
       "\t\t.Adam -> <syft.ast.klass.Class object at 0x0000015878F89820>\n",
       "\t\t.AdamW -> <syft.ast.klass.Class object at 0x0000015878F899A0>\n",
       "\t\t.Adamax -> <syft.ast.klass.Class object at 0x0000015878F89B20>\n",
       "\t\t.LBFGS -> <syft.ast.klass.Class object at 0x0000015878F89CA0>\n",
       "\t\t.Optimizer -> <syft.ast.klass.Class object at 0x0000015878F89E20>\n",
       "\t\t.RMSprop -> <syft.ast.klass.Class object at 0x0000015878F8F040>\n",
       "\t\t.Rprop -> <syft.ast.klass.Class object at 0x0000015878F8F1C0>\n",
       "\t\t.SGD -> <syft.ast.klass.Class object at 0x0000015878F8F340>\n",
       "\t\t.SparseAdam -> <syft.ast.klass.Class object at 0x0000015878F8F4C0>\n",
       "\t\t.lr_scheduler -> Module:\n",
       "\t\t\t.StepLR -> <syft.ast.klass.Class object at 0x0000015878F8F760>\n",
       "\n",
       "\n",
       "\t.no_grad -> <syft.ast.klass.Class object at 0x0000015878F8F940>\n",
       "\t.autograd -> Module:\n",
       "\t\t.grad_mode -> Module:\n",
       "\t\t\t.no_grad -> <syft.ast.klass.Class object at 0x0000015878F8FAC0>\n",
       "\n",
       "\n",
       "\t.kron -> <syft.ast.callable.Callable object at 0x000001587900E280>\n",
       "\t.msort -> <syft.ast.callable.Callable object at 0x000001587900E3A0>\n",
       "\t.row_stack -> <syft.ast.callable.Callable object at 0x000001587900E400>\n",
       "\t.moveaxis -> <syft.ast.callable.Callable object at 0x000001587900E700>\n",
       "\t.tensor_split -> <syft.ast.callable.Callable object at 0x000001587900E820>\n",
       "\t.tile -> <syft.ast.callable.Callable object at 0x000001587900E940>\n",
       "\t.fmin -> <syft.ast.callable.Callable object at 0x000001587900EB20>\n",
       "\t.ldexp -> <syft.ast.callable.Callable object at 0x000001587900EB80>\n",
       "\t.igamma -> <syft.ast.callable.Callable object at 0x000001587900ECA0>\n",
       "\t.float_power -> <syft.ast.callable.Callable object at 0x00000158790121C0>\n",
       "\t.xlogy -> <syft.ast.callable.Callable object at 0x00000158790122E0>\n",
       "\t.copysign -> <syft.ast.callable.Callable object at 0x0000015879012340>\n",
       "\t.nanmedian -> <syft.ast.callable.Callable object at 0x00000158790123A0>\n",
       "\t.igammac -> <syft.ast.callable.Callable object at 0x0000015879012400>\n",
       "\t.diff -> <syft.ast.callable.Callable object at 0x0000015879012520>\n",
       "\t.sinc -> <syft.ast.callable.Callable object at 0x0000015879012640>\n",
       "\t.column_stack -> <syft.ast.callable.Callable object at 0x0000015879012820>\n",
       "\t.pixel_unshuffle -> <syft.ast.callable.Callable object at 0x0000015879012940>\n",
       "\t.swapaxes -> <syft.ast.callable.Callable object at 0x0000015879012BE0>\n",
       "\t.nan_to_num -> <syft.ast.callable.Callable object at 0x0000015879012C40>\n",
       "\t.inner -> <syft.ast.callable.Callable object at 0x0000015879012CA0>\n",
       "\t.fmax -> <syft.ast.callable.Callable object at 0x0000015879012D00>\n",
       "\t.ravel -> <syft.ast.callable.Callable object at 0x00000158790180A0>\n",
       "\t.broadcast_to -> <syft.ast.callable.Callable object at 0x0000015879018100>\n",
       "\t.swapdims -> <syft.ast.callable.Callable object at 0x00000158790182E0>"
      ]
     },
     "execution_count": 2,
     "metadata": {},
     "output_type": "execute_result"
    }
   ],
   "source": [
    "duet.torch"
   ]
  },
  {
   "cell_type": "markdown",
   "metadata": {},
   "source": [
    "Lets create a model just like the one in the MNIST example. We do this in almost the exact same way as in PyTorch. The main difference is we inherit from sy.Module instead of nn.Module and we need to pass in a variable called torch_ref which we will use internally for any calls that would normally be to torch."
   ]
  },
  {
   "cell_type": "code",
   "execution_count": 3,
   "metadata": {},
   "outputs": [],
   "source": [
    "class SyNet(sy.Module):\n",
    "    def __init__(self, torch_ref):\n",
    "        super(SyNet, self).__init__(torch_ref=torch_ref)\n",
    "        self.conv1 = self.torch_ref.nn.Conv2d(1, 32, 3, 1)\n",
    "        self.conv2 = self.torch_ref.nn.Conv2d(32, 64, 3, 1) \n",
    "        self.dropout1 = self.torch_ref.nn.Dropout2d(0.25)\n",
    "        self.dropout2 = self.torch_ref.nn.Dropout2d(0.5)\n",
    "        self.fc1 = self.torch_ref.nn.Linear(9216, 128)\n",
    "        self.fc2 = self.torch_ref.nn.Linear(128, 10)\n",
    "\n",
    "    def forward(self, x):\n",
    "        x = self.conv1(x)\n",
    "        x = self.torch_ref.nn.functional.relu(x)\n",
    "        x = self.conv2(x)\n",
    "        x = self.torch_ref.nn.functional.relu(x)\n",
    "        x = self.torch_ref.nn.functional.max_pool2d(x, 2)\n",
    "        x = self.dropout1(x)\n",
    "        x = self.torch_ref.flatten(x, 1)\n",
    "        x = self.fc1(x)\n",
    "        x = self.torch_ref.nn.functional.relu(x)\n",
    "        x = self.dropout2(x)\n",
    "        x = self.fc2(x)\n",
    "        output = self.torch_ref.nn.functional.log_softmax(x, dim=1)\n",
    "        return output"
   ]
  },
  {
   "cell_type": "code",
   "execution_count": 4,
   "metadata": {},
   "outputs": [],
   "source": [
    "# lets import torch and torchvision just as we normally would\n",
    "import torch\n",
    "import torchvision"
   ]
  },
  {
   "cell_type": "code",
   "execution_count": 5,
   "metadata": {},
   "outputs": [],
   "source": [
    "# now we can create the model and pass in our local copy of torch\n",
    "local_model = SyNet(torch)"
   ]
  },
  {
   "cell_type": "markdown",
   "metadata": {},
   "source": [
    "Next we can get our MNIST Test Set ready using our local copy of torch."
   ]
  },
  {
   "cell_type": "code",
   "execution_count": 6,
   "metadata": {},
   "outputs": [],
   "source": [
    "# we need some transforms for the MNIST data set\n",
    "local_transform_1 = torchvision.transforms.ToTensor()  # this converts PIL images to Tensors\n",
    "local_transform_2 = torchvision.transforms.Normalize(0.1307, 0.3081)  # this normalizes the dataset\n",
    "\n",
    "# compose our transforms\n",
    "local_transforms = torchvision.transforms.Compose([local_transform_1, local_transform_2])"
   ]
  },
  {
   "cell_type": "code",
   "execution_count": 7,
   "metadata": {},
   "outputs": [],
   "source": [
    "# Lets define a few settings which are from the original MNIST example command-line args\n",
    "args = {\n",
    "    \"batch_size\": 64,\n",
    "    \"test_batch_size\": 1000,\n",
    "    \"epochs\": 14,\n",
    "    \"lr\": 1.0,\n",
    "    \"gamma\": 0.7,\n",
    "    \"no_cuda\": False,\n",
    "    \"dry_run\": False,\n",
    "    \"seed\": 42, # the meaning of life\n",
    "    \"log_interval\": 10,\n",
    "    \"save_model\": True,\n",
    "}"
   ]
  },
  {
   "cell_type": "code",
   "execution_count": 8,
   "metadata": {},
   "outputs": [
    {
     "name": "stdout",
     "output_type": "stream",
     "text": [
      "10000\n"
     ]
    }
   ],
   "source": [
    "from syft.util import get_root_data_path\n",
    "# we will configure the test set here locally since we want to know if our Data Owner's\n",
    "# private training dataset will help us reach new SOTA results for our benchmark test set\n",
    "test_kwargs = {\n",
    "    \"batch_size\": args[\"test_batch_size\"],\n",
    "}\n",
    "\n",
    "test_data = torchvision.datasets.MNIST(str(get_root_data_path()), train=False, download=True, transform=local_transforms)\n",
    "test_loader = torch.utils.data.DataLoader(test_data,**test_kwargs)\n",
    "test_data_length = len(test_loader.dataset)\n",
    "print(test_data_length)"
   ]
  },
  {
   "cell_type": "markdown",
   "metadata": {},
   "source": [
    "Now its time to send the model to our partner’s Duet Server."
   ]
  },
  {
   "cell_type": "markdown",
   "metadata": {},
   "source": [
    "Note: You can load normal torch model weights before sending your model.\n",
    "Try training the model and saving it at the end of the notebook and then coming back and\n",
    "reloading the weights here, or you can train the same model once using the original script\n",
    "in `original` dir and load it here as well."
   ]
  },
  {
   "cell_type": "code",
   "execution_count": 9,
   "metadata": {},
   "outputs": [],
   "source": [
    "# local_model.load(\"./duet_mnist.pt\")"
   ]
  },
  {
   "cell_type": "code",
   "execution_count": 10,
   "metadata": {},
   "outputs": [],
   "source": [
    "model = local_model.send(duet)"
   ]
  },
  {
   "cell_type": "markdown",
   "metadata": {},
   "source": [
    "Lets create an alias for our partner’s torch called `remote_torch` so we can refer to the local torch as `torch` and any operation we want to do remotely as `remote_torch`. Remember, the return values from `remote_torch` are `Pointers`, not the real objects. They mostly act the same when using them with other `Pointers` but you can't mix them with local torch objects."
   ]
  },
  {
   "cell_type": "code",
   "execution_count": 11,
   "metadata": {},
   "outputs": [],
   "source": [
    "remote_torch = duet.torch"
   ]
  },
  {
   "cell_type": "code",
   "execution_count": 12,
   "metadata": {},
   "outputs": [
    {
     "name": "stdout",
     "output_type": "stream",
     "text": [
      "False\n"
     ]
    }
   ],
   "source": [
    "# lets ask to see if our Data Owner has CUDA\n",
    "has_cuda = False\n",
    "has_cuda_ptr = remote_torch.cuda.is_available()\n",
    "has_cuda = bool(has_cuda_ptr.get(\n",
    "    request_block=True,\n",
    "    reason=\"To run test and inference locally\",\n",
    "    timeout_secs=5,  # change to something slower\n",
    "))\n",
    "print(has_cuda)"
   ]
  },
  {
   "cell_type": "code",
   "execution_count": 13,
   "metadata": {},
   "outputs": [
    {
     "name": "stdout",
     "output_type": "stream",
     "text": [
      "Data Owner device is cpu\n"
     ]
    }
   ],
   "source": [
    "use_cuda = not args[\"no_cuda\"] and has_cuda\n",
    "# now we can set the seed\n",
    "remote_torch.manual_seed(args[\"seed\"])\n",
    "\n",
    "device = remote_torch.device(\"cuda\" if use_cuda else \"cpu\")\n",
    "print(f\"Data Owner device is {device.type.get()}\")"
   ]
  },
  {
   "cell_type": "code",
   "execution_count": 14,
   "metadata": {},
   "outputs": [],
   "source": [
    "# if we have CUDA lets send our model to the GPU\n",
    "if has_cuda:\n",
    "    model.cuda(device)\n",
    "else:\n",
    "    model.cpu()"
   ]
  },
  {
   "cell_type": "markdown",
   "metadata": {},
   "source": [
    "Lets get our params, setup an optimizer and a scheduler just the same as the PyTorch MNIST example"
   ]
  },
  {
   "cell_type": "code",
   "execution_count": 15,
   "metadata": {},
   "outputs": [],
   "source": [
    "params = model.parameters()"
   ]
  },
  {
   "cell_type": "code",
   "execution_count": 16,
   "metadata": {},
   "outputs": [],
   "source": [
    "optimizer = remote_torch.optim.Adadelta(params, lr=args[\"lr\"])"
   ]
  },
  {
   "cell_type": "code",
   "execution_count": 17,
   "metadata": {},
   "outputs": [],
   "source": [
    "scheduler = remote_torch.optim.lr_scheduler.StepLR(optimizer, step_size=1, gamma=args[\"gamma\"])"
   ]
  },
  {
   "cell_type": "markdown",
   "metadata": {},
   "source": [
    "Next we need a training loop so we can improve our remote model. Since we want to train on remote data we should first check if the model is remote since we will be using remote_torch in this function. To check if a model is local or remote simply use the `.is_local` attribute."
   ]
  },
  {
   "cell_type": "code",
   "execution_count": 18,
   "metadata": {},
   "outputs": [],
   "source": [
    "def train(model, torch_ref, train_loader, optimizer, epoch, args, train_data_length):\n",
    "    # + 0.5 lets us math.ceil without the import\n",
    "    train_batches = round((train_data_length / args[\"batch_size\"]) + 0.5)\n",
    "    print(f\"> Running train in {train_batches} batches\")\n",
    "    if model.is_local:\n",
    "        print(\"Training requires remote model\")\n",
    "        return\n",
    "\n",
    "    model.train()\n",
    "\n",
    "    for batch_idx, data in enumerate(train_loader):\n",
    "        data_ptr, target_ptr = data[0], data[1]\n",
    "        optimizer.zero_grad()\n",
    "        output = model(data_ptr)\n",
    "        loss = torch_ref.nn.functional.nll_loss(output, target_ptr)\n",
    "        loss.backward()\n",
    "        optimizer.step()\n",
    "        loss_item = loss.item()\n",
    "        train_loss = duet.python.Float(0)  # create a remote Float we can use for summation\n",
    "        train_loss += loss_item\n",
    "        if batch_idx % args[\"log_interval\"] == 0:\n",
    "            local_loss = None\n",
    "            local_loss = loss_item.get(\n",
    "                reason=\"To evaluate training progress\",\n",
    "                request_block=True,\n",
    "                timeout_secs=5\n",
    "            )\n",
    "            if local_loss is not None:\n",
    "                print(\"Train Epoch: {} {} {:.4}\".format(epoch, batch_idx, local_loss))\n",
    "            else:\n",
    "                print(\"Train Epoch: {} {} ?\".format(epoch, batch_idx))\n",
    "        if batch_idx >= train_batches - 1:\n",
    "            print(\"batch_idx >= train_batches, breaking\")\n",
    "            break\n",
    "        if args[\"dry_run\"]:\n",
    "            break"
   ]
  },
  {
   "cell_type": "markdown",
   "metadata": {},
   "source": [
    "Now we can define a simple test loop very similar to the original PyTorch MNIST example.\n",
    "This function should expect a remote model from our outer epoch loop, so internally we can call `get` to download the weights to do an evaluation on our machine with our local test set. Remember, if we have trained on private data, our model will require permission to download, so we should use request_block=True and make sure the Data Owner approves our requests. For the rest of this function, we will use local `torch` as we normally would."
   ]
  },
  {
   "cell_type": "code",
   "execution_count": 19,
   "metadata": {},
   "outputs": [],
   "source": [
    "def test_local(model, torch_ref, test_loader, test_data_length):\n",
    "    # download remote model\n",
    "    if not model.is_local:\n",
    "        local_model = model.get(\n",
    "            request_block=True,\n",
    "            reason=\"test evaluation\",\n",
    "            timeout_secs=5\n",
    "        )\n",
    "    else:\n",
    "        local_model = model\n",
    "    # + 0.5 lets us math.ceil without the import\n",
    "    test_batches = round((test_data_length / args[\"test_batch_size\"]) + 0.5)\n",
    "    print(f\"> Running test_local in {test_batches} batches\")\n",
    "    local_model.eval()\n",
    "    test_loss = 0.0\n",
    "    correct = 0.0\n",
    "\n",
    "    with torch_ref.no_grad():\n",
    "        for batch_idx, (data, target) in enumerate(test_loader):\n",
    "            output = local_model(data)\n",
    "            iter_loss = torch_ref.nn.functional.nll_loss(output, target, reduction=\"sum\").item()\n",
    "            test_loss = test_loss + iter_loss\n",
    "            pred = output.argmax(dim=1)\n",
    "            total = pred.eq(target).sum().item()\n",
    "            correct += total\n",
    "            if args[\"dry_run\"]:\n",
    "                break\n",
    "                \n",
    "            if batch_idx >= test_batches - 1:\n",
    "                print(\"batch_idx >= test_batches, breaking\")\n",
    "                break\n",
    "\n",
    "    accuracy = correct / test_data_length\n",
    "    print(f\"Test Set Accuracy: {100 * accuracy}%\")"
   ]
  },
  {
   "cell_type": "markdown",
   "metadata": {},
   "source": [
    "Finally just for demonstration purposes, we will get the built-in MNIST dataset but on the Data Owners side from `remote_torchvision`."
   ]
  },
  {
   "cell_type": "code",
   "execution_count": 20,
   "metadata": {},
   "outputs": [],
   "source": [
    "# we need some transforms for the MNIST data set\n",
    "remote_torchvision = duet.torchvision\n",
    "\n",
    "transform_1 = remote_torchvision.transforms.ToTensor()  # this converts PIL images to Tensors\n",
    "transform_2 = remote_torchvision.transforms.Normalize(0.1307, 0.3081)  # this normalizes the dataset\n",
    "\n",
    "remote_list = duet.python.List()  # create a remote list to add the transforms to\n",
    "remote_list.append(transform_1)\n",
    "remote_list.append(transform_2)\n",
    "\n",
    "# compose our transforms\n",
    "transforms = remote_torchvision.transforms.Compose(remote_list)\n",
    "\n",
    "# The DO has kindly let us initialise a DataLoader for their training set\n",
    "train_kwargs = {\n",
    "    \"batch_size\": args[\"batch_size\"],\n",
    "}\n",
    "train_data_ptr = remote_torchvision.datasets.MNIST(str(get_root_data_path()), train=True, download=True, transform=transforms)\n",
    "train_loader_ptr = remote_torch.utils.data.DataLoader(train_data_ptr,**train_kwargs)"
   ]
  },
  {
   "cell_type": "code",
   "execution_count": 21,
   "metadata": {},
   "outputs": [
    {
     "name": "stdout",
     "output_type": "stream",
     "text": [
      "Training Dataset size is: 60000\n"
     ]
    }
   ],
   "source": [
    "# normally we would not necessarily know the length of a remote dataset so lets ask for it\n",
    "# so we can pass that to our training loop and know when to stop\n",
    "def get_train_length(train_data_ptr):\n",
    "    train_data_length = len(train_data_ptr)\n",
    "    return train_data_length\n",
    "\n",
    "try:\n",
    "    if train_data_length is None:\n",
    "        train_data_length = get_train_length(train_data_ptr)\n",
    "except NameError:\n",
    "        train_data_length = get_train_length(train_data_ptr)\n",
    "\n",
    "print(f\"Training Dataset size is: {train_data_length}\")"
   ]
  },
  {
   "cell_type": "markdown",
   "metadata": {},
   "source": [
    "## PART 3: Training"
   ]
  },
  {
   "cell_type": "code",
   "execution_count": 22,
   "metadata": {},
   "outputs": [
    {
     "name": "stdout",
     "output_type": "stream",
     "text": [
      "Starting Training\n",
      "Epoch: 1\n",
      "> Running train in 938 batches\n",
      "Train Epoch: 1 0 2.311\n",
      "> Running test_local in 10 batches\n",
      "Test Set Accuracy: 1.8900000000000001%\n",
      "Epoch time: 16 seconds\n",
      "Finished Training\n"
     ]
    }
   ],
   "source": [
    "import time\n",
    "\n",
    "args[\"dry_run\"] = True  # comment to do a full train\n",
    "print(\"Starting Training\")\n",
    "for epoch in range(1, args[\"epochs\"] + 1):\n",
    "    epoch_start = time.time()\n",
    "    print(f\"Epoch: {epoch}\")\n",
    "    # remote training on model with remote_torch\n",
    "    train(model, remote_torch, train_loader_ptr, optimizer, epoch, args, train_data_length)\n",
    "    # local testing on model with local torch\n",
    "    test_local(model, torch, test_loader, test_data_length)\n",
    "    scheduler.step()\n",
    "    epoch_end = time.time()\n",
    "    print(f\"Epoch time: {int(epoch_end - epoch_start)} seconds\")\n",
    "    if args[\"dry_run\"]:\n",
    "        break\n",
    "print(\"Finished Training\")"
   ]
  },
  {
   "cell_type": "code",
   "execution_count": 23,
   "metadata": {},
   "outputs": [],
   "source": [
    "if args[\"save_model\"]:\n",
    "    model.get(\n",
    "        request_block=True,\n",
    "        reason=\"test evaluation\",\n",
    "        timeout_secs=5\n",
    "    ).save(\"./duet_mnist.pt\")"
   ]
  },
  {
   "cell_type": "markdown",
   "metadata": {},
   "source": [
    "## PART 4: Inference"
   ]
  },
  {
   "cell_type": "markdown",
   "metadata": {},
   "source": [
    "A model would be no fun without the ability to do inference. The following code shows some examples on how we can do this either remotely or locally."
   ]
  },
  {
   "cell_type": "code",
   "execution_count": 24,
   "metadata": {},
   "outputs": [],
   "source": [
    "import matplotlib.pyplot as plt\n",
    "def draw_image_and_label(image, label):\n",
    "    fig = plt.figure()\n",
    "    plt.tight_layout()\n",
    "    plt.imshow(image, cmap=\"gray\", interpolation=\"none\")\n",
    "    plt.title(\"Ground Truth: {}\".format(label))\n",
    "    \n",
    "def prep_for_inference(image):\n",
    "    image_batch = image.unsqueeze(0).unsqueeze(0)\n",
    "    image_batch = image_batch * 1.0\n",
    "    return image_batch"
   ]
  },
  {
   "cell_type": "code",
   "execution_count": 25,
   "metadata": {},
   "outputs": [],
   "source": [
    "def classify_local(image, model):\n",
    "    if not model.is_local:\n",
    "        print(\"model is remote try .get()\")\n",
    "        return -1, torch.Tensor([-1])\n",
    "    image_tensor = torch.Tensor(prep_for_inference(image))\n",
    "    output = model(image_tensor)\n",
    "    preds = torch.exp(output)\n",
    "    local_y = preds\n",
    "    local_y = local_y.squeeze()\n",
    "    pos = local_y == max(local_y)\n",
    "    index = torch.nonzero(pos, as_tuple=False)\n",
    "    class_num = index.squeeze()\n",
    "    return class_num, local_y"
   ]
  },
  {
   "cell_type": "code",
   "execution_count": 26,
   "metadata": {},
   "outputs": [],
   "source": [
    "def classify_remote(image, model):\n",
    "    if model.is_local:\n",
    "        print(\"model is local try .send()\")\n",
    "        return -1, remote_torch.Tensor([-1])\n",
    "    image_tensor_ptr = remote_torch.Tensor(prep_for_inference(image))\n",
    "    output = model(image_tensor_ptr)\n",
    "    preds = remote_torch.exp(output)\n",
    "    preds_result = preds.get(\n",
    "        request_block=True,\n",
    "        reason=\"To see a real world example of inference\",\n",
    "        timeout_secs=10\n",
    "    )\n",
    "    if preds_result is None:\n",
    "        print(\"No permission to do inference, request again\")\n",
    "        return -1, torch.Tensor([-1])\n",
    "    else:\n",
    "        # now we have the local tensor we can use local torch\n",
    "        local_y = torch.Tensor(preds_result)\n",
    "        local_y = local_y.squeeze()\n",
    "        pos = local_y == max(local_y)\n",
    "        index = torch.nonzero(pos, as_tuple=False)\n",
    "        class_num = index.squeeze()\n",
    "        return class_num, local_y"
   ]
  },
  {
   "cell_type": "code",
   "execution_count": 27,
   "metadata": {},
   "outputs": [
    {
     "name": "stdout",
     "output_type": "stream",
     "text": [
      "Random Test Image: 9453\n",
      "Displaying 9453 == 453 in Batch: 9/10\n"
     ]
    },
    {
     "data": {
      "image/png": "[encoded data removed]",
      "text/plain": [
       "<Figure size 432x288 with 1 Axes>"
      ]
     },
     "metadata": {
      "needs_background": "light"
     },
     "output_type": "display_data"
    }
   ],
   "source": [
    "# lets grab something from the test set\n",
    "import random\n",
    "total_images = test_data_length # 10000\n",
    "index = random.randint(0, total_images)\n",
    "print(\"Random Test Image:\", index)\n",
    "count = 0\n",
    "batch = index // test_kwargs[\"batch_size\"]\n",
    "batch_index = index % int(total_images / len(test_loader))\n",
    "for tensor_ptr in test_loader:\n",
    "    data, target = tensor_ptr[0], tensor_ptr[1]\n",
    "    if batch == count:\n",
    "        break\n",
    "    count += 1\n",
    "\n",
    "print(f\"Displaying {index} == {batch_index} in Batch: {batch}/{len(test_loader)}\")\n",
    "if batch_index > len(data):\n",
    "    batch_index = 0\n",
    "image_1 = data[batch_index].reshape((28, 28))\n",
    "label_1 = target[batch_index]\n",
    "draw_image_and_label(image_1, label_1)"
   ]
  },
  {
   "cell_type": "code",
   "execution_count": 28,
   "metadata": {},
   "outputs": [
    {
     "name": "stdout",
     "output_type": "stream",
     "text": [
      "Prediction: 3 Ground Truth: 4\n",
      "tensor([0.1756, 0.0629, 0.0659, 0.2389, 0.1761, 0.0432, 0.1132, 0.0248, 0.0262,\n",
      "        0.0733], grad_fn=<SqueezeBackward0>)\n"
     ]
    }
   ],
   "source": [
    "# classify remote\n",
    "class_num, preds = classify_remote(image_1, model)\n",
    "print(f\"Prediction: {class_num} Ground Truth: {label_1}\")\n",
    "print(preds)"
   ]
  },
  {
   "cell_type": "code",
   "execution_count": 29,
   "metadata": {},
   "outputs": [],
   "source": [
    "local_model = model.get(\n",
    "    request_block=True,\n",
    "    reason=\"To run test and inference locally\",\n",
    "    timeout_secs=5,\n",
    ")"
   ]
  },
  {
   "cell_type": "code",
   "execution_count": 30,
   "metadata": {},
   "outputs": [
    {
     "name": "stdout",
     "output_type": "stream",
     "text": [
      "Prediction: 0 Ground Truth: 4\n",
      "tensor([0.3208, 0.0518, 0.0692, 0.1880, 0.1356, 0.0198, 0.0460, 0.0173, 0.0299,\n",
      "        0.1215], grad_fn=<SqueezeBackward0>)\n"
     ]
    }
   ],
   "source": [
    "# classify local\n",
    "class_num, preds = classify_local(image_1, local_model)\n",
    "print(f\"Prediction: {class_num} Ground Truth: {label_1}\")\n",
    "print(preds)"
   ]
  },
  {
   "cell_type": "code",
   "execution_count": 31,
   "metadata": {},
   "outputs": [],
   "source": [
    "# We can also download an image from the web and run inference on that\n",
    "from PIL import Image, ImageEnhance\n",
    "import PIL.ImageOps    \n",
    "\n",
    "import os\n",
    "def classify_url_image(image_url):\n",
    "    filename = os.path.basename(image_url)\n",
    "    os.system(f'curl -O {image_url}')\n",
    "    im = Image.open(filename)\n",
    "    im = PIL.ImageOps.invert(im)\n",
    "#     im = im.resize((28,28), Image.ANTIALIAS)\n",
    "    im = im.convert('LA')\n",
    "    enhancer = ImageEnhance.Brightness(im)\n",
    "    im = enhancer.enhance(3)\n",
    "\n",
    "\n",
    "    print(im.size)\n",
    "    fig = plt.figure()\n",
    "    plt.tight_layout()\n",
    "    plt.imshow(im, cmap=\"gray\", interpolation=\"none\")\n",
    "    \n",
    "    # classify local\n",
    "    class_num, preds = classify_local(image_1, local_model)\n",
    "    print(f\"Prediction: {class_num}\")\n",
    "    print(preds)"
   ]
  },
  {
   "cell_type": "code",
   "execution_count": 32,
   "metadata": {},
   "outputs": [],
   "source": [
    "# image_url = \"https://raw.githubusercontent.com/kensanata/numbers/master/0018_CHXX/0/number-100.png\"\n",
    "# classify_url_image(image_url)"
   ]
  },
  {
   "cell_type": "code",
   "execution_count": null,
   "metadata": {},
   "outputs": [],
   "source": []
  }
 ],
 "metadata": {
  "kernelspec": {
   "display_name": "Python 3",
   "language": "python",
   "name": "python3"
  },
  "language_info": {
   "codemirror_mode": {
    "name": "ipython",
    "version": 3
   },
   "file_extension": ".py",
   "mimetype": "text/x-python",
   "name": "python",
   "nbconvert_exporter": "python",
   "pygments_lexer": "ipython3",
   "version": "3.8.8"
  },
  "pycharm": {
   "stem_cell": {
    "cell_type": "raw",
    "metadata": {
     "collapsed": false
    },
    "source": []
   }
  }
 },
 "nbformat": 4,
 "nbformat_minor": 4
}
